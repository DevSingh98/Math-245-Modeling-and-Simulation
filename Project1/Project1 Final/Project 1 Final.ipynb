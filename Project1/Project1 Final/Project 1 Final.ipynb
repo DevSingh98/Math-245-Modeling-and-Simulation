{
 "cells": [
  {
   "cell_type": "code",
   "execution_count": 1,
   "metadata": {},
   "outputs": [
    {
     "name": "stdout",
     "output_type": "stream",
     "text": [
      "Requirement already satisfied: pint in /Users/deveshwarsingh/anaconda3/lib/python3.7/site-packages (0.11)\n",
      "Requirement already satisfied: setuptools in /Users/deveshwarsingh/anaconda3/lib/python3.7/site-packages (from pint) (41.6.0.post20191030)\n",
      "If this cell runs successfully, it produces no output other than this message.\n"
     ]
    }
   ],
   "source": [
    "!pip install pint\n",
    "\n",
    "# Configure Jupyter so figures appear in the notebook\n",
    "%matplotlib inline\n",
    "\n",
    "# Configure Jupyter to display the assigned value after an assignment\n",
    "%config InteractiveShell.ast_node_interactivity='last_expr_or_assign'\n",
    "\n",
    "# import functions from the modsim library\n",
    "from modsim import *\n",
    "import math\n",
    "\n",
    "print('If this cell runs successfully, it produces no output other than this message.')"
   ]
  },
  {
   "cell_type": "code",
   "execution_count": 2,
   "metadata": {},
   "outputs": [
    {
     "data": {
      "text/html": [
       "<div>\n",
       "<style scoped>\n",
       "    .dataframe tbody tr th:only-of-type {\n",
       "        vertical-align: middle;\n",
       "    }\n",
       "\n",
       "    .dataframe tbody tr th {\n",
       "        vertical-align: top;\n",
       "    }\n",
       "\n",
       "    .dataframe thead th {\n",
       "        text-align: right;\n",
       "    }\n",
       "</style>\n",
       "<table border=\"1\" class=\"dataframe\">\n",
       "  <thead>\n",
       "    <tr style=\"text-align: right;\">\n",
       "      <th></th>\n",
       "      <th>values</th>\n",
       "    </tr>\n",
       "  </thead>\n",
       "  <tbody>\n",
       "    <tr>\n",
       "      <th>olin</th>\n",
       "      <td>0</td>\n",
       "    </tr>\n",
       "    <tr>\n",
       "      <th>wellesley</th>\n",
       "      <td>0</td>\n",
       "    </tr>\n",
       "    <tr>\n",
       "      <th>olin_empty</th>\n",
       "      <td>0</td>\n",
       "    </tr>\n",
       "    <tr>\n",
       "      <th>wellesley_empty</th>\n",
       "      <td>0</td>\n",
       "    </tr>\n",
       "    <tr>\n",
       "      <th>clock</th>\n",
       "      <td>0</td>\n",
       "    </tr>\n",
       "    <tr>\n",
       "      <th>total_money</th>\n",
       "      <td>0</td>\n",
       "    </tr>\n",
       "  </tbody>\n",
       "</table>\n",
       "</div>"
      ],
      "text/plain": [
       "olin               0\n",
       "wellesley          0\n",
       "olin_empty         0\n",
       "wellesley_empty    0\n",
       "clock              0\n",
       "total_money        0\n",
       "dtype: int64"
      ]
     },
     "execution_count": 2,
     "metadata": {},
     "output_type": "execute_result"
    }
   ],
   "source": [
    "sweep = SweepSeries()\n",
    "bikeshare = State(olin= 0, wellesley= 0, \n",
    "                  olin_empty=0, wellesley_empty=0,\n",
    "                  clock=0, total_money = 0)"
   ]
  },
  {
   "cell_type": "code",
   "execution_count": 3,
   "metadata": {},
   "outputs": [],
   "source": [
    "def bike_to_wellesley(state):\n",
    "    state.clock+=1\n",
    "    if state.olin == 0:\n",
    "        #print(\"No bike at olin \"+ str(state.total_money))\n",
    "        return\n",
    "    else:\n",
    "        #print(\"Moving from olin to wellesley \"+ str(state.total_money))\n",
    "        state.olin -= 1\n",
    "        state.wellesley += 1\n",
    "        state.total_money+=10\n",
    "    \n",
    "def bike_to_olin(state):\n",
    "    state.clock+=1\n",
    "    if state.wellesley == 0:\n",
    "        #print(\"No bike at wellesley \"+ str(state.total_money))\n",
    "        return\n",
    "    else:\n",
    "        #print(\"Moving from wellesley to olin \"+ str(state.total_money))\n",
    "        state.wellesley -= 1\n",
    "        state.olin += 1\n",
    "        state.total_money+=10"
   ]
  },
  {
   "cell_type": "code",
   "execution_count": 4,
   "metadata": {},
   "outputs": [],
   "source": [
    "def step(state, p1, p2):\n",
    "    \"\"\"Simulate one minute of time.\n",
    "    \n",
    "    state: bikeshare State object\n",
    "    p1: probability of an Olin->Wellesley customer arrival\n",
    "    p2: probability of a Wellesley->Olin customer arrival\n",
    "    \"\"\"\n",
    "    if flip(p1):\n",
    "        bike_to_wellesley(state)\n",
    "    \n",
    "    if flip(p2):\n",
    "        bike_to_olin(state)"
   ]
  },
  {
   "cell_type": "code",
   "execution_count": 5,
   "metadata": {},
   "outputs": [],
   "source": [
    "def run_simulation(state, p1, p2, num_steps, num_bikes):\n",
    "    \"\"\"Simulate the given number of time steps.\n",
    "    \n",
    "    state: State object\n",
    "    p1: probability of a bike moving from Olin -> Wellesley\n",
    "    p2: probability of a bike moving from Wellesley -> Olin\n",
    "    num_steps: number of time steps\n",
    "    \"\"\"\n",
    "    state.olin= math.ceil(num_bikes/2)\n",
    "    state.wellesley= math.floor(num_bikes/2)\n",
    "    \n",
    "    for i in range(num_steps):\n",
    "        step(state,p1,p2)\n",
    "    \n",
    "        "
   ]
  },
  {
   "cell_type": "code",
   "execution_count": 6,
   "metadata": {},
   "outputs": [
    {
     "data": {
      "text/plain": [
       "array([ 10.,  20.,  30.,  40.,  50.,  60.,  70.,  80.,  90., 100.])"
      ]
     },
     "execution_count": 6,
     "metadata": {},
     "output_type": "execute_result"
    }
   ],
   "source": [
    "number_of_bikes = linspace(10, 100, 10)"
   ]
  },
  {
   "cell_type": "code",
   "execution_count": 7,
   "metadata": {},
   "outputs": [
    {
     "data": {
      "text/plain": [
       "[<matplotlib.lines.Line2D at 0x1a19098e80>]"
      ]
     },
     "execution_count": 7,
     "metadata": {},
     "output_type": "execute_result"
    },
    {
     "data": {
      "image/png": "[encoded data removed]",
      "text/plain": [
       "<Figure size 432x288 with 1 Axes>"
      ]
     },
     "metadata": {
      "needs_background": "light"
     },
     "output_type": "display_data"
    }
   ],
   "source": [
    "for x in number_of_bikes:\n",
    "    state = run_simulation(bikeshare, 0.09, 0.002, 1440,int(x))\n",
    "    sweep[x] = bikeshare.total_money\n",
    "    bikeshare.total_money = 0\n",
    "          \n",
    "plot(sweep, label = 'bikeshare.total_money')"
   ]
  },
  {
   "cell_type": "code",
   "execution_count": null,
   "metadata": {},
   "outputs": [],
   "source": []
  },
  {
   "cell_type": "code",
   "execution_count": 8,
   "metadata": {},
   "outputs": [
    {
     "data": {
      "image/png": "[encoded data removed]",
      "text/plain": [
       "<Figure size 432x288 with 1 Axes>"
      ]
     },
     "metadata": {
      "needs_background": "light"
     },
     "output_type": "display_data"
    }
   ],
   "source": [
    "plt.plot(number_of_bikes,sweep, color='orange')\n",
    "plt.xlabel('# of bikes')\n",
    "plt.ylabel(\"Revenue (in $)\")\n",
    "plt.title('How does the # of bikes Impact Revenue Per Day')\n",
    "plt.show()"
   ]
  },
  {
   "cell_type": "code",
   "execution_count": null,
   "metadata": {},
   "outputs": [],
   "source": []
  }
 ],
 "metadata": {
  "kernelspec": {
   "display_name": "Python 3",
   "language": "python",
   "name": "python3"
  },
  "language_info": {
   "codemirror_mode": {
    "name": "ipython",
    "version": 3
   },
   "file_extension": ".py",
   "mimetype": "text/x-python",
   "name": "python",
   "nbconvert_exporter": "python",
   "pygments_lexer": "ipython3",
   "version": "3.7.3"
  }
 },
 "nbformat": 4,
 "nbformat_minor": 2
}
