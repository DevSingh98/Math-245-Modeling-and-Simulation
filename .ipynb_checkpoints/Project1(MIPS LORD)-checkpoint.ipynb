{
 "cells": [
  {
   "cell_type": "code",
   "execution_count": 1,
   "metadata": {},
   "outputs": [
    {
     "name": "stdout",
     "output_type": "stream",
     "text": [
      "Requirement already satisfied: pint in /Users/deveshwarsingh/anaconda3/lib/python3.7/site-packages (0.11)\n",
      "Requirement already satisfied: setuptools in /Users/deveshwarsingh/anaconda3/lib/python3.7/site-packages (from pint) (41.6.0.post20191030)\n",
      "If this cell runs successfully, it produces no output other than this message.\n"
     ]
    }
   ],
   "source": [
    "!pip install pint\n",
    "\n",
    "# Configure Jupyter so figures appear in the notebook\n",
    "%matplotlib inline\n",
    "\n",
    "# Configure Jupyter to display the assigned value after an assignment\n",
    "%config InteractiveShell.ast_node_interactivity='last_expr_or_assign'\n",
    "\n",
    "# import functions from the modsim library\n",
    "from modsim import *\n",
    "import math\n",
    "\n",
    "print('If this cell runs successfully, it produces no output other than this message.')"
   ]
  },
  {
   "cell_type": "code",
   "execution_count": 2,
   "metadata": {},
   "outputs": [],
   "source": [
    "def bike_to_wellesley(state):\n",
    "    if state.olin == 0:\n",
    "        state.olin_empty+=1\n",
    "        return\n",
    "    state.olin -= 1\n",
    "    state.wellesley += 1\n",
    "    state.wellesley_money+=10\n",
    "    state.total_money+=10\n",
    "    \n",
    "def bike_to_olin(state):\n",
    "    if state.wellesley == 0:\n",
    "        state.wellesley_empty+=1\n",
    "        return\n",
    "    state.wellesley -= 1\n",
    "    state.olin += 1\n",
    "    state.olin_money+=10\n",
    "    state.total_money+=10"
   ]
  },
  {
   "cell_type": "code",
   "execution_count": 3,
   "metadata": {},
   "outputs": [],
   "source": [
    "def step(state, p1, p2):\n",
    "    \"\"\"Simulate one minute of time.\n",
    "    \n",
    "    state: bikeshare State object\n",
    "    p1: probability of an Olin->Wellesley customer arrival\n",
    "    p2: probability of a Wellesley->Olin customer arrival\n",
    "    \"\"\"\n",
    "    if (state.olin_empty != 0 and state.wellesley_empty != 0):\n",
    "        if state.t_first_empty == -1:\n",
    "            state.t_first_empty = clock\n",
    "    if flip(p1):\n",
    "        bike_to_wellesley(state)\n",
    "        state.clock +=1\n",
    "    \n",
    "    if flip(p2):\n",
    "        bike_to_olin(state)\n",
    "        state.clock +=1\n"
   ]
  },
  {
   "cell_type": "code",
   "execution_count": 4,
   "metadata": {},
   "outputs": [],
   "source": [
    "def run_simulation(state, p1, p2, num_steps, num_bikes):\n",
    "    \"\"\"Simulate the given number of time steps.\n",
    "    \n",
    "    state: State object\n",
    "    p1: probability of a bike moving from Olin -> Wellesley\n",
    "    p2: probability of a bike moving from Wellesley -> Olin\n",
    "    num_steps: number of time steps\n",
    "    \"\"\"\n",
    "    state.olin= math.ceil(num_bikes/2)\n",
    "    state.wellesley= math.floor(num_bikes/2)\n",
    "    results = TimeSeries()    \n",
    "    for i in range(num_steps):\n",
    "        step(state, p1, p2)\n",
    "        results[i] = state.total_money\n",
    "        \n",
    "    # plot(results, label='Money')"
   ]
  },
  {
   "cell_type": "code",
   "execution_count": 5,
   "metadata": {},
   "outputs": [
    {
     "data": {
      "text/html": [
       "<div>\n",
       "<style scoped>\n",
       "    .dataframe tbody tr th:only-of-type {\n",
       "        vertical-align: middle;\n",
       "    }\n",
       "\n",
       "    .dataframe tbody tr th {\n",
       "        vertical-align: top;\n",
       "    }\n",
       "\n",
       "    .dataframe thead th {\n",
       "        text-align: right;\n",
       "    }\n",
       "</style>\n",
       "<table border=\"1\" class=\"dataframe\">\n",
       "  <thead>\n",
       "    <tr style=\"text-align: right;\">\n",
       "      <th></th>\n",
       "      <th>values</th>\n",
       "    </tr>\n",
       "  </thead>\n",
       "  <tbody>\n",
       "    <tr>\n",
       "      <th>olin</th>\n",
       "      <td>10</td>\n",
       "    </tr>\n",
       "    <tr>\n",
       "      <th>wellesley</th>\n",
       "      <td>2</td>\n",
       "    </tr>\n",
       "    <tr>\n",
       "      <th>olin_empty</th>\n",
       "      <td>0</td>\n",
       "    </tr>\n",
       "    <tr>\n",
       "      <th>wellesley_empty</th>\n",
       "      <td>0</td>\n",
       "    </tr>\n",
       "    <tr>\n",
       "      <th>clock</th>\n",
       "      <td>0</td>\n",
       "    </tr>\n",
       "    <tr>\n",
       "      <th>olin_money</th>\n",
       "      <td>0</td>\n",
       "    </tr>\n",
       "    <tr>\n",
       "      <th>wellesley_money</th>\n",
       "      <td>0</td>\n",
       "    </tr>\n",
       "    <tr>\n",
       "      <th>total_money</th>\n",
       "      <td>0</td>\n",
       "    </tr>\n",
       "    <tr>\n",
       "      <th>t_first_empty</th>\n",
       "      <td>0</td>\n",
       "    </tr>\n",
       "  </tbody>\n",
       "</table>\n",
       "</div>"
      ],
      "text/plain": [
       "olin               10\n",
       "wellesley           2\n",
       "olin_empty          0\n",
       "wellesley_empty     0\n",
       "clock               0\n",
       "olin_money          0\n",
       "wellesley_money     0\n",
       "total_money         0\n",
       "t_first_empty       0\n",
       "dtype: int64"
      ]
     },
     "execution_count": 5,
     "metadata": {},
     "output_type": "execute_result"
    }
   ],
   "source": [
    "sweep = SweepSeries()\n",
    "bikeshare = State(olin= 10, wellesley= 2, \n",
    "                  olin_empty=0, wellesley_empty=0,\n",
    "                  clock=0, olin_money = 0, wellesley_money = 0, total_money = 0, t_first_empty = 0)"
   ]
  },
  {
   "cell_type": "code",
   "execution_count": 6,
   "metadata": {},
   "outputs": [
    {
     "data": {
      "text/plain": [
       "array([  0.,  10.,  20.,  30.,  40.,  50.,  60.,  70.,  80.,  90., 100.])"
      ]
     },
     "execution_count": 6,
     "metadata": {},
     "output_type": "execute_result"
    }
   ],
   "source": [
    "number_of_bikes = linspace(0, 100, 11)"
   ]
  },
  {
   "cell_type": "code",
   "execution_count": 16,
   "metadata": {},
   "outputs": [
    {
     "name": "stdout",
     "output_type": "stream",
     "text": [
      "olin                   0\n",
      "wellesley              0\n",
      "olin_empty           420\n",
      "wellesley_empty      212\n",
      "clock               5387\n",
      "olin_money         19300\n",
      "wellesley_money    28250\n",
      "total_money            0\n",
      "t_first_empty          0\n",
      "dtype: int64\n",
      "olin                   0\n",
      "wellesley             10\n",
      "olin_empty           431\n",
      "wellesley_empty      212\n",
      "clock               5441\n",
      "olin_money         19490\n",
      "wellesley_money    28490\n",
      "total_money            0\n",
      "t_first_empty          0\n",
      "dtype: int64\n",
      "olin                   0\n",
      "wellesley             20\n",
      "olin_empty           434\n",
      "wellesley_empty      212\n",
      "clock               5492\n",
      "olin_money         19680\n",
      "wellesley_money    28780\n",
      "total_money            0\n",
      "t_first_empty          0\n",
      "dtype: int64\n",
      "olin                   2\n",
      "wellesley             28\n",
      "olin_empty           435\n",
      "wellesley_empty      212\n",
      "clock               5552\n",
      "olin_money         19910\n",
      "wellesley_money    29140\n",
      "total_money            0\n",
      "t_first_empty          0\n",
      "dtype: int64\n",
      "olin                   8\n",
      "wellesley             32\n",
      "olin_empty           435\n",
      "wellesley_empty      212\n",
      "clock               5612\n",
      "olin_money         20150\n",
      "wellesley_money    29500\n",
      "total_money            0\n",
      "t_first_empty          0\n",
      "dtype: int64\n",
      "olin                   9\n",
      "wellesley             41\n",
      "olin_empty           435\n",
      "wellesley_empty      212\n",
      "clock               5676\n",
      "olin_money         20390\n",
      "wellesley_money    29900\n",
      "total_money            0\n",
      "t_first_empty          0\n",
      "dtype: int64\n",
      "olin                  13\n",
      "wellesley             47\n",
      "olin_empty           435\n",
      "wellesley_empty      212\n",
      "clock               5735\n",
      "olin_money         20600\n",
      "wellesley_money    30280\n",
      "total_money            0\n",
      "t_first_empty          0\n",
      "dtype: int64\n",
      "olin                  21\n",
      "wellesley             49\n",
      "olin_empty           435\n",
      "wellesley_empty      212\n",
      "clock               5791\n",
      "olin_money         20810\n",
      "wellesley_money    30630\n",
      "total_money            0\n",
      "t_first_empty          0\n",
      "dtype: int64\n",
      "olin                  30\n",
      "wellesley             50\n",
      "olin_empty           435\n",
      "wellesley_empty      212\n",
      "clock               5861\n",
      "olin_money         21110\n",
      "wellesley_money    31030\n",
      "total_money            0\n",
      "t_first_empty          0\n",
      "dtype: int64\n",
      "olin                  29\n",
      "wellesley             61\n",
      "olin_empty           435\n",
      "wellesley_empty      212\n",
      "clock               5923\n",
      "olin_money         21340\n",
      "wellesley_money    31420\n",
      "total_money            0\n",
      "t_first_empty          0\n",
      "dtype: int64\n",
      "olin                  43\n",
      "wellesley             57\n",
      "olin_empty           435\n",
      "wellesley_empty      212\n",
      "clock               5988\n",
      "olin_money         21630\n",
      "wellesley_money    31780\n",
      "total_money            0\n",
      "t_first_empty          0\n",
      "dtype: int64\n"
     ]
    },
    {
     "data": {
      "text/plain": [
       "[<matplotlib.lines.Line2D at 0x1a21d32668>]"
      ]
     },
     "execution_count": 16,
     "metadata": {},
     "output_type": "execute_result"
    },
    {
     "data": {
      "image/png": "[encoded data removed]",
      "text/plain": [
       "<Figure size 432x288 with 1 Axes>"
      ]
     },
     "metadata": {
      "needs_background": "light"
     },
     "output_type": "display_data"
    }
   ],
   "source": [
    "for x in number_of_bikes:\n",
    "    state = run_simulation(bikeshare, 0.6, 0.4, 60,int(x))\n",
    "    sweep[x] = bikeshare.total_money\n",
    "    bikeshare.total_money =0\n",
    "    #print(bikeshare)\n",
    "plot(sweep, label = 'bikeshare.olin_money')"
   ]
  },
  {
   "cell_type": "code",
   "execution_count": 8,
   "metadata": {},
   "outputs": [
    {
     "data": {
      "text/html": [
       "<div>\n",
       "<style scoped>\n",
       "    .dataframe tbody tr th:only-of-type {\n",
       "        vertical-align: middle;\n",
       "    }\n",
       "\n",
       "    .dataframe tbody tr th {\n",
       "        vertical-align: top;\n",
       "    }\n",
       "\n",
       "    .dataframe thead th {\n",
       "        text-align: right;\n",
       "    }\n",
       "</style>\n",
       "<table border=\"1\" class=\"dataframe\">\n",
       "  <thead>\n",
       "    <tr style=\"text-align: right;\">\n",
       "      <th></th>\n",
       "      <th>values</th>\n",
       "    </tr>\n",
       "  </thead>\n",
       "  <tbody>\n",
       "    <tr>\n",
       "      <th>olin</th>\n",
       "      <td>47</td>\n",
       "    </tr>\n",
       "    <tr>\n",
       "      <th>wellesley</th>\n",
       "      <td>53</td>\n",
       "    </tr>\n",
       "    <tr>\n",
       "      <th>olin_empty</th>\n",
       "      <td>48</td>\n",
       "    </tr>\n",
       "    <tr>\n",
       "      <th>wellesley_empty</th>\n",
       "      <td>26</td>\n",
       "    </tr>\n",
       "    <tr>\n",
       "      <th>clock</th>\n",
       "      <td>665</td>\n",
       "    </tr>\n",
       "    <tr>\n",
       "      <th>olin_money</th>\n",
       "      <td>2420</td>\n",
       "    </tr>\n",
       "    <tr>\n",
       "      <th>wellesley_money</th>\n",
       "      <td>3490</td>\n",
       "    </tr>\n",
       "    <tr>\n",
       "      <th>total_money</th>\n",
       "      <td>0</td>\n",
       "    </tr>\n",
       "    <tr>\n",
       "      <th>t_first_empty</th>\n",
       "      <td>0</td>\n",
       "    </tr>\n",
       "  </tbody>\n",
       "</table>\n",
       "</div>"
      ],
      "text/plain": [
       "olin                 47\n",
       "wellesley            53\n",
       "olin_empty           48\n",
       "wellesley_empty      26\n",
       "clock               665\n",
       "olin_money         2420\n",
       "wellesley_money    3490\n",
       "total_money           0\n",
       "t_first_empty         0\n",
       "dtype: int64"
      ]
     },
     "execution_count": 8,
     "metadata": {},
     "output_type": "execute_result"
    }
   ],
   "source": [
    "bikeshare"
   ]
  },
  {
   "cell_type": "code",
   "execution_count": null,
   "metadata": {},
   "outputs": [],
   "source": []
  },
  {
   "cell_type": "code",
   "execution_count": null,
   "metadata": {},
   "outputs": [],
   "source": []
  },
  {
   "cell_type": "code",
   "execution_count": null,
   "metadata": {},
   "outputs": [],
   "source": []
  },
  {
   "cell_type": "code",
   "execution_count": null,
   "metadata": {},
   "outputs": [],
   "source": []
  }
 ],
 "metadata": {
  "kernelspec": {
   "display_name": "Python 3",
   "language": "python",
   "name": "python3"
  },
  "language_info": {
   "codemirror_mode": {
    "name": "ipython",
    "version": 3
   },
   "file_extension": ".py",
   "mimetype": "text/x-python",
   "name": "python",
   "nbconvert_exporter": "python",
   "pygments_lexer": "ipython3",
   "version": "3.7.3"
  }
 },
 "nbformat": 4,
 "nbformat_minor": 2
}
